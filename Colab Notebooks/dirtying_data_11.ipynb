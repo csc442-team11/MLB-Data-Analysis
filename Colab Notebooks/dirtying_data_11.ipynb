{
  "nbformat": 4,
  "nbformat_minor": 0,
  "metadata": {
    "colab": {
      "provenance": []
    },
    "kernelspec": {
      "name": "python3",
      "display_name": "Python 3"
    },
    "language_info": {
      "name": "python"
    }
  },
  "cells": [
    {
      "cell_type": "code",
      "source": [
        "# Necessary imports\n",
        "import pandas as pd\n",
        "import numpy as np"
      ],
      "metadata": {
        "id": "AKU18iqtHJdK"
      },
      "execution_count": null,
      "outputs": []
    },
    {
      "cell_type": "code",
      "execution_count": null,
      "metadata": {
        "id": "hKdf5ylRDMRA"
      },
      "outputs": [],
      "source": [
        "# Reading in original datasets\n",
        "baseball2024_file = \"https://raw.githubusercontent.com/csc442-team11/MLB-Data-Analysis/refs/heads/main/Datasets/mlb-player-stats-Batters-2024-initial.csv\"\n",
        "baseball2023_file = \"https://raw.githubusercontent.com/csc442-team11/MLB-Data-Analysis/refs/heads/main/Datasets/mlb-player-stats-Batters-2023-initial.csv\"\n",
        "\n",
        "df_2024 = pd.read_csv(baseball2024_file)\n",
        "df_2023 = pd.read_csv(baseball2023_file)\n",
        "\n",
        "# Dirtying three columns, G (games played), SH (sacrifice bunts), SF (sacrifice flies)\n",
        "# done randomly, introducing roughly 4% into each column\n",
        "df_2024['G'] = np.where(np.random.rand(len(df_2024)) < 0.04, np.nan, df_2024['G'])\n",
        "df_2024['SH'] = np.where(np.random.rand(len(df_2024)) < 0.04, np.nan, df_2024['SH'])\n",
        "df_2024['SF'] = np.where(np.random.rand(len(df_2024)) < 0.04, np.nan, df_2024['SF'])\n",
        "\n",
        "df_2023['G'] = np.where(np.random.rand(len(df_2023)) < 0.04, np.nan, df_2023['G'])\n",
        "df_2023['SH'] = np.where(np.random.rand(len(df_2023)) < 0.04, np.nan, df_2023['SH'])\n",
        "df_2023['SF'] = np.where(np.random.rand(len(df_2023)) < 0.04, np.nan, df_2023['SF'])\n"
      ]
    },
    {
      "cell_type": "code",
      "source": [
        "# See that missing values are introduced\n",
        "display(df_2024.info())\n",
        "display(df_2023.info())"
      ],
      "metadata": {
        "colab": {
          "base_uri": "https://localhost:8080/",
          "height": 1000
        },
        "id": "oZxVagJaLNSQ",
        "outputId": "e5d1a6ec-bfbb-41de-e613-80aec4342068"
      },
      "execution_count": 25,
      "outputs": [
        {
          "output_type": "stream",
          "name": "stdout",
          "text": [
            "<class 'pandas.core.frame.DataFrame'>\n",
            "RangeIndex: 725 entries, 0 to 724\n",
            "Data columns (total 23 columns):\n",
            " #   Column  Non-Null Count  Dtype  \n",
            "---  ------  --------------  -----  \n",
            " 0   Player  725 non-null    object \n",
            " 1   Team    725 non-null    object \n",
            " 2   Pos     725 non-null    object \n",
            " 3   Age     725 non-null    int64  \n",
            " 4   G       701 non-null    float64\n",
            " 5   AB      725 non-null    int64  \n",
            " 6   R       725 non-null    int64  \n",
            " 7   H       725 non-null    int64  \n",
            " 8   2B      725 non-null    int64  \n",
            " 9   3B      725 non-null    int64  \n",
            " 10  HR      725 non-null    int64  \n",
            " 11  RBI     725 non-null    int64  \n",
            " 12  SB      725 non-null    int64  \n",
            " 13  CS      725 non-null    int64  \n",
            " 14  BB      725 non-null    int64  \n",
            " 15  SO      725 non-null    int64  \n",
            " 16  SH      699 non-null    float64\n",
            " 17  SF      696 non-null    float64\n",
            " 18  HBP     725 non-null    int64  \n",
            " 19  AVG     725 non-null    float64\n",
            " 20  OBP     725 non-null    float64\n",
            " 21  SLG     725 non-null    float64\n",
            " 22  OPS     725 non-null    float64\n",
            "dtypes: float64(7), int64(13), object(3)\n",
            "memory usage: 130.4+ KB\n"
          ]
        },
        {
          "output_type": "display_data",
          "data": {
            "text/plain": [
              "None"
            ]
          },
          "metadata": {}
        },
        {
          "output_type": "stream",
          "name": "stdout",
          "text": [
            "<class 'pandas.core.frame.DataFrame'>\n",
            "RangeIndex: 705 entries, 0 to 704\n",
            "Data columns (total 23 columns):\n",
            " #   Column  Non-Null Count  Dtype  \n",
            "---  ------  --------------  -----  \n",
            " 0   Player  705 non-null    object \n",
            " 1   Team    705 non-null    object \n",
            " 2   Pos     705 non-null    object \n",
            " 3   Age     705 non-null    int64  \n",
            " 4   G       679 non-null    float64\n",
            " 5   AB      705 non-null    int64  \n",
            " 6   R       705 non-null    int64  \n",
            " 7   H       705 non-null    int64  \n",
            " 8   2B      705 non-null    int64  \n",
            " 9   3B      705 non-null    int64  \n",
            " 10  HR      705 non-null    int64  \n",
            " 11  RBI     705 non-null    int64  \n",
            " 12  SB      705 non-null    int64  \n",
            " 13  CS      705 non-null    int64  \n",
            " 14  BB      705 non-null    int64  \n",
            " 15  SO      705 non-null    int64  \n",
            " 16  SH      686 non-null    float64\n",
            " 17  SF      677 non-null    float64\n",
            " 18  HBP     705 non-null    int64  \n",
            " 19  AVG     705 non-null    float64\n",
            " 20  OBP     705 non-null    float64\n",
            " 21  SLG     705 non-null    float64\n",
            " 22  OPS     705 non-null    float64\n",
            "dtypes: float64(7), int64(13), object(3)\n",
            "memory usage: 126.8+ KB\n"
          ]
        },
        {
          "output_type": "display_data",
          "data": {
            "text/plain": [
              "None"
            ]
          },
          "metadata": {}
        }
      ]
    },
    {
      "cell_type": "code",
      "source": [
        "# Export these \"now dirtied\" datasets as CSVs into working directory\n",
        "df_2024.to_csv('mlb-player-stats-Batters-2024-dirty.csv', index=False)\n",
        "df_2023.to_csv('mlb-player-stats-Batters-2023-dirty.csv', index=False)\n",
        "\n",
        "# we then download these on a local machine and push to Github"
      ],
      "metadata": {
        "id": "Nim2I5DIUmNm"
      },
      "execution_count": 24,
      "outputs": []
    }
  ]
}