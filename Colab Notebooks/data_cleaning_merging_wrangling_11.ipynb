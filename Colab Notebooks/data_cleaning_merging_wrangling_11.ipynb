{
  "nbformat": 4,
  "nbformat_minor": 0,
  "metadata": {
    "colab": {
      "provenance": []
    },
    "kernelspec": {
      "name": "python3",
      "display_name": "Python 3"
    },
    "language_info": {
      "name": "python"
    }
  },
  "cells": [
    {
      "cell_type": "code",
      "source": [
        "# Import necessary libraries\n",
        "import pandas as pd\n",
        "import numpy as np\n",
        "import matplotlib.pyplot as plt"
      ],
      "metadata": {
        "id": "9unVnCWFndha"
      },
      "execution_count": 66,
      "outputs": []
    },
    {
      "cell_type": "markdown",
      "source": [
        "## Read CSVs and Create Dataframes"
      ],
      "metadata": {
        "id": "eK2pAxPcrlfk"
      }
    },
    {
      "cell_type": "code",
      "execution_count": 67,
      "metadata": {
        "id": "OeXi49YdkEvK"
      },
      "outputs": [],
      "source": [
        "# Import Data\n",
        "baseball2024_file = \"https://raw.githubusercontent.com/csc442-team11/MLB-Data-Analysis/refs/heads/main/Datasets/mlb-player-stats-Batters-2024-dirty.csv\"\n",
        "baseball2023_file = \"https://raw.githubusercontent.com/csc442-team11/MLB-Data-Analysis/refs/heads/main/Datasets/mlb-player-stats-Batters-2023-dirty.csv\"\n",
        "\n",
        "# Create dataframes\n",
        "df_2023 = pd.read_csv(baseball2023_file)\n",
        "df_2024 = pd.read_csv(baseball2024_file)\n",
        "\n",
        "\n",
        "# Add the year column\n",
        "df_2023['Year'] = 2023\n",
        "df_2023['Year'] = df_2023['Year'].astype('category')\n",
        "\n",
        "df_2024['Year'] = 2024\n",
        "df_2024['Year'] = df_2024['Year'].astype('category')"
      ]
    },
    {
      "cell_type": "markdown",
      "source": [
        "### Data Dictionary\n",
        "| Variable               | Description\n",
        "|------------------------|----------------------------------------------------\n",
        "| Player                 | First and last name\n",
        "| Year                   | The year these stats are from\n",
        "| Team                   | Team name abreviation\n",
        "| Pos                    | Position abbreviation\n",
        "| Age                    | Number of years lived\n",
        "| G (Games)              | Number of games played\n",
        "| AB (At bat)            | Number of at bats\n",
        "| PA (Plate Appearance)  | Number of times a player went to the plate\n",
        "| R (Run)                | Number of runs scored\n",
        "| H (Hit)                | Number of hits\n",
        "| 2B (2nd Base)          | Number of doubles\n",
        "| 3B (3rd Base)          | Number of triples\n",
        "| HR (Home Run)          | Number of home runs\n",
        "| RBI (Runs Batted In)   | Number of run scored from player's plate appearance\n",
        "| SB (Stolen Bases)      | Number of advances to a base the player isn't allowed\n",
        "| CS (Caught Stealing)   | Number of times a player is tagged while attempting to steal a base\n",
        "| BB (Base on Balls)     | Number of times a player advances to first base without swinging\n",
        "| SO (Strikeout)         | Number of strikeouts\n",
        "| SH (Sacrifice Bunt)    | Number of bunts where the batter is thrown out but advances the runner\n",
        "| SF (Sacrifice Fly)     | Number of fly-balls where the batter is caught out but advances the runner\n",
        "| HBP (Hit-by-Pitch)     | Number of times struck by a pitched ball without swinging\n",
        "| AVG (Average)          | Hits divided by total at-bats\n",
        "| OBP (On-base Average)  | Number of times on base divided by the number of plate appearances\n",
        "| SLG (Slugging Percentage) | Total number of bases a player records per at-bat\n",
        "| OPS (On-base plus Slugging) | Combination of on-base percentage and slugging percentage"
      ],
      "metadata": {
        "id": "LPultU0NrwOj"
      }
    },
    {
      "cell_type": "markdown",
      "source": [
        "# Data Cleaning"
      ],
      "metadata": {
        "id": "36DXPU9T9U0L"
      }
    },
    {
      "cell_type": "markdown",
      "source": [
        "## Rectify Structural Misalignments"
      ],
      "metadata": {
        "id": "YdtKQTrSsNgC"
      }
    },
    {
      "cell_type": "code",
      "source": [
        "# Check the shape of the data\n",
        "print(\"2023 Stats Shape\")\n",
        "print(df_2023.shape)\n",
        "\n",
        "print(\"\\n2024 Stats Shape\")\n",
        "print(df_2024.shape)"
      ],
      "metadata": {
        "colab": {
          "base_uri": "https://localhost:8080/"
        },
        "id": "LTE7N1fLsQex",
        "outputId": "719e06fd-a614-4368-8605-f2d9f7580f5f"
      },
      "execution_count": 68,
      "outputs": [
        {
          "output_type": "stream",
          "name": "stdout",
          "text": [
            "2023 Stats Shape\n",
            "(705, 24)\n",
            "\n",
            "2024 Stats Shape\n",
            "(725, 24)\n"
          ]
        }
      ]
    },
    {
      "cell_type": "markdown",
      "source": [
        "The PA column is missing. That is because it requires data from a column that currently contains missing values, so we need to fix that issue before computing the PA column"
      ],
      "metadata": {
        "id": "NcPRkM9o4VJr"
      }
    },
    {
      "cell_type": "code",
      "source": [
        "# Check that columns are named appropriately and for convience; match data dictionary\n",
        "print(\"2023 Column Labels\")\n",
        "print(df_2023.columns)\n",
        "\n",
        "print(\"\\n2024 Column Labels\")\n",
        "print(df_2024.columns)"
      ],
      "metadata": {
        "colab": {
          "base_uri": "https://localhost:8080/"
        },
        "id": "Za0sfd18uNLF",
        "outputId": "5635d6a4-0c53-498a-90a1-b27f59479ed8"
      },
      "execution_count": 5,
      "outputs": [
        {
          "output_type": "stream",
          "name": "stdout",
          "text": [
            "2023 Column Labels\n",
            "Index(['Player', 'Team', 'Pos', 'Age', 'G', 'AB', 'R', 'H', '2B', '3B', 'HR',\n",
            "       'RBI', 'SB', 'CS', 'BB', 'SO', 'SH', 'SF', 'HBP', 'AVG', 'OBP', 'SLG',\n",
            "       'OPS', 'Year'],\n",
            "      dtype='object')\n",
            "\n",
            "2024 Column Labels\n",
            "Index(['Player', 'Team', 'Pos', 'Age', 'G', 'AB', 'R', 'H', '2B', '3B', 'HR',\n",
            "       'RBI', 'SB', 'CS', 'BB', 'SO', 'SH', 'SF', 'HBP', 'AVG', 'OBP', 'SLG',\n",
            "       'OPS', 'Year'],\n",
            "      dtype='object')\n"
          ]
        }
      ]
    },
    {
      "cell_type": "markdown",
      "source": [
        "## Data Uniqueness\n",
        "There are roughly 650 players (not including pitchers) in the MLB at any given time, so we should expect their to be roughly that many unique entries.\n",
        "\n",
        "There are 7 batting positions (DH, 1B, 2B, 3B, SS, C, OF)\n",
        "\n",
        "There are 30 teams in the MLB"
      ],
      "metadata": {
        "id": "8RGCR1JOywto"
      }
    },
    {
      "cell_type": "code",
      "source": [
        "# Find the columns that are unique to each player\n",
        "print(\"2023 stats unique players and teams\")\n",
        "print(f\"Players: {len(df_2023['Player'].unique())}\")\n",
        "print(f\"Positions: {len(df_2023['Pos'].unique())}\")\n",
        "print(f\"Teams: {len(df_2023['Team'].unique())}\")\n",
        "\n",
        "\n",
        "print(\"\\n2024 stats unique players and teams\")\n",
        "print(f\"Players: {len(df_2024['Player'].unique())}\")\n",
        "print(f\"Positions: {len(df_2024['Pos'].unique())}\")\n",
        "print(f\"Teams: {len(df_2024['Team'].unique())}\")"
      ],
      "metadata": {
        "colab": {
          "base_uri": "https://localhost:8080/"
        },
        "id": "BcMSxU9Qyf5k",
        "outputId": "b220df69-f862-4c14-ade9-9c49e8e15143"
      },
      "execution_count": 69,
      "outputs": [
        {
          "output_type": "stream",
          "name": "stdout",
          "text": [
            "2023 stats unique players and teams\n",
            "Players: 649\n",
            "Positions: 7\n",
            "Teams: 30\n",
            "\n",
            "2024 stats unique players and teams\n",
            "Players: 649\n",
            "Positions: 7\n",
            "Teams: 30\n"
          ]
        }
      ]
    },
    {
      "cell_type": "markdown",
      "source": [
        "## Dealing with Missing Values\n"
      ],
      "metadata": {
        "id": "A2_t6P_JbL3D"
      }
    },
    {
      "cell_type": "code",
      "source": [
        "# Find columns with missing values\n",
        "print(df_2023.info())\n",
        "print(df_2024.info())"
      ],
      "metadata": {
        "colab": {
          "base_uri": "https://localhost:8080/"
        },
        "id": "wQj50_MP5lHi",
        "outputId": "c518fa22-78d6-48b5-ff21-a2a8b2640906"
      },
      "execution_count": null,
      "outputs": [
        {
          "output_type": "stream",
          "name": "stdout",
          "text": [
            "<class 'pandas.core.frame.DataFrame'>\n",
            "RangeIndex: 705 entries, 0 to 704\n",
            "Data columns (total 24 columns):\n",
            " #   Column  Non-Null Count  Dtype   \n",
            "---  ------  --------------  -----   \n",
            " 0   Player  705 non-null    object  \n",
            " 1   Team    705 non-null    object  \n",
            " 2   Pos     705 non-null    object  \n",
            " 3   Age     705 non-null    int64   \n",
            " 4   G       679 non-null    float64 \n",
            " 5   AB      705 non-null    int64   \n",
            " 6   R       705 non-null    int64   \n",
            " 7   H       705 non-null    int64   \n",
            " 8   2B      705 non-null    int64   \n",
            " 9   3B      705 non-null    int64   \n",
            " 10  HR      705 non-null    int64   \n",
            " 11  RBI     705 non-null    int64   \n",
            " 12  SB      705 non-null    int64   \n",
            " 13  CS      705 non-null    int64   \n",
            " 14  BB      705 non-null    int64   \n",
            " 15  SO      705 non-null    int64   \n",
            " 16  SH      686 non-null    float64 \n",
            " 17  SF      677 non-null    float64 \n",
            " 18  HBP     705 non-null    int64   \n",
            " 19  AVG     705 non-null    float64 \n",
            " 20  OBP     705 non-null    float64 \n",
            " 21  SLG     705 non-null    float64 \n",
            " 22  OPS     705 non-null    float64 \n",
            " 23  Year    705 non-null    category\n",
            "dtypes: category(1), float64(7), int64(13), object(3)\n",
            "memory usage: 127.6+ KB\n",
            "None\n",
            "<class 'pandas.core.frame.DataFrame'>\n",
            "RangeIndex: 725 entries, 0 to 724\n",
            "Data columns (total 24 columns):\n",
            " #   Column  Non-Null Count  Dtype   \n",
            "---  ------  --------------  -----   \n",
            " 0   Player  725 non-null    object  \n",
            " 1   Team    725 non-null    object  \n",
            " 2   Pos     725 non-null    object  \n",
            " 3   Age     725 non-null    int64   \n",
            " 4   G       701 non-null    float64 \n",
            " 5   AB      725 non-null    int64   \n",
            " 6   R       725 non-null    int64   \n",
            " 7   H       725 non-null    int64   \n",
            " 8   2B      725 non-null    int64   \n",
            " 9   3B      725 non-null    int64   \n",
            " 10  HR      725 non-null    int64   \n",
            " 11  RBI     725 non-null    int64   \n",
            " 12  SB      725 non-null    int64   \n",
            " 13  CS      725 non-null    int64   \n",
            " 14  BB      725 non-null    int64   \n",
            " 15  SO      725 non-null    int64   \n",
            " 16  SH      699 non-null    float64 \n",
            " 17  SF      696 non-null    float64 \n",
            " 18  HBP     725 non-null    int64   \n",
            " 19  AVG     725 non-null    float64 \n",
            " 20  OBP     725 non-null    float64 \n",
            " 21  SLG     725 non-null    float64 \n",
            " 22  OPS     725 non-null    float64 \n",
            " 23  Year    725 non-null    category\n",
            "dtypes: category(1), float64(7), int64(13), object(3)\n",
            "memory usage: 131.2+ KB\n",
            "None\n"
          ]
        }
      ]
    },
    {
      "cell_type": "markdown",
      "source": [
        "Games (G), Sacrifice Flies (SF) and Sacrifice Bunts (SH) are the three columns with missing values.\n",
        "\n",
        "This is done before ensuring column consistency, because some of these operations change the type to an undesired type, so that step comes after this for efficiency."
      ],
      "metadata": {
        "id": "97axr55qBzxV"
      }
    },
    {
      "cell_type": "code",
      "source": [
        "# Sacrifice Flies (SF) and Sacrifice Bunts (SH) are not significant in a player's\n",
        "# overall batting strength, so missing values are replaced by 0.\n",
        "df_2023['SF'] = df_2023['SF'].fillna(0)\n",
        "df_2023['SH'] = df_2023['SH'].fillna(0)\n",
        "df_2024['SF'] = df_2024['SF'].fillna(0)\n",
        "df_2024['SH'] = df_2024['SH'].fillna(0)\n",
        "\n",
        "# Since the above missing values have been dealt with, we can add plate appearances (PA)\n",
        "df_2023['PA'] = df_2023['AB'] + df_2023['BB'] + df_2023['HBP'] + df_2023['SF']\n",
        "df_2024['PA'] = df_2024['AB'] + df_2024['BB'] + df_2024['HBP'] + df_2024['SF']\n",
        "\n",
        "# Most players have around 4 PA's per game, so to find a player's games played (G),\n",
        "# we divide PA by 4 and round up (in case someone has less than 4 PA).\n",
        "# We must make sure the result is not greater than 162, which is the total\n",
        "# number of games played in a season\n",
        "df_2023['G'] = df_2023['PA'] / 4\n",
        "df_2023['G'] = df_2023['G'].apply(np.ceil)\n",
        "df_2023['G'] = df_2023['G'].apply(lambda x: min(162, x))\n",
        "\n",
        "df_2024['G'] = df_2024['PA'] / 4\n",
        "df_2024['G'] = df_2024['G'].apply(np.ceil)\n",
        "df_2024['G'] = df_2024['G'].apply(lambda x: min(162, x))\n",
        "\n",
        "\n",
        "print(df_2023.info())\n",
        "print(df_2024.info())"
      ],
      "metadata": {
        "colab": {
          "base_uri": "https://localhost:8080/"
        },
        "id": "2KrSUZDMbLbJ",
        "outputId": "b0eb6314-7c29-4241-985b-812b31511c7e"
      },
      "execution_count": 70,
      "outputs": [
        {
          "output_type": "stream",
          "name": "stdout",
          "text": [
            "<class 'pandas.core.frame.DataFrame'>\n",
            "RangeIndex: 705 entries, 0 to 704\n",
            "Data columns (total 25 columns):\n",
            " #   Column  Non-Null Count  Dtype   \n",
            "---  ------  --------------  -----   \n",
            " 0   Player  705 non-null    object  \n",
            " 1   Team    705 non-null    object  \n",
            " 2   Pos     705 non-null    object  \n",
            " 3   Age     705 non-null    int64   \n",
            " 4   G       705 non-null    float64 \n",
            " 5   AB      705 non-null    int64   \n",
            " 6   R       705 non-null    int64   \n",
            " 7   H       705 non-null    int64   \n",
            " 8   2B      705 non-null    int64   \n",
            " 9   3B      705 non-null    int64   \n",
            " 10  HR      705 non-null    int64   \n",
            " 11  RBI     705 non-null    int64   \n",
            " 12  SB      705 non-null    int64   \n",
            " 13  CS      705 non-null    int64   \n",
            " 14  BB      705 non-null    int64   \n",
            " 15  SO      705 non-null    int64   \n",
            " 16  SH      705 non-null    float64 \n",
            " 17  SF      705 non-null    float64 \n",
            " 18  HBP     705 non-null    int64   \n",
            " 19  AVG     705 non-null    float64 \n",
            " 20  OBP     705 non-null    float64 \n",
            " 21  SLG     705 non-null    float64 \n",
            " 22  OPS     705 non-null    float64 \n",
            " 23  Year    705 non-null    category\n",
            " 24  PA      705 non-null    float64 \n",
            "dtypes: category(1), float64(8), int64(13), object(3)\n",
            "memory usage: 133.1+ KB\n",
            "None\n",
            "<class 'pandas.core.frame.DataFrame'>\n",
            "RangeIndex: 725 entries, 0 to 724\n",
            "Data columns (total 25 columns):\n",
            " #   Column  Non-Null Count  Dtype   \n",
            "---  ------  --------------  -----   \n",
            " 0   Player  725 non-null    object  \n",
            " 1   Team    725 non-null    object  \n",
            " 2   Pos     725 non-null    object  \n",
            " 3   Age     725 non-null    int64   \n",
            " 4   G       725 non-null    float64 \n",
            " 5   AB      725 non-null    int64   \n",
            " 6   R       725 non-null    int64   \n",
            " 7   H       725 non-null    int64   \n",
            " 8   2B      725 non-null    int64   \n",
            " 9   3B      725 non-null    int64   \n",
            " 10  HR      725 non-null    int64   \n",
            " 11  RBI     725 non-null    int64   \n",
            " 12  SB      725 non-null    int64   \n",
            " 13  CS      725 non-null    int64   \n",
            " 14  BB      725 non-null    int64   \n",
            " 15  SO      725 non-null    int64   \n",
            " 16  SH      725 non-null    float64 \n",
            " 17  SF      725 non-null    float64 \n",
            " 18  HBP     725 non-null    int64   \n",
            " 19  AVG     725 non-null    float64 \n",
            " 20  OBP     725 non-null    float64 \n",
            " 21  SLG     725 non-null    float64 \n",
            " 22  OPS     725 non-null    float64 \n",
            " 23  Year    725 non-null    category\n",
            " 24  PA      725 non-null    float64 \n",
            "dtypes: category(1), float64(8), int64(13), object(3)\n",
            "memory usage: 136.9+ KB\n",
            "None\n"
          ]
        }
      ]
    },
    {
      "cell_type": "markdown",
      "source": [
        "## Duplicate Values\n",
        "Here, we merge on the player, summing all integers together.\n",
        "Then, the averages (AVG, OBP, SLG, OPS) must be computed using these new summed values. Every entry should represent a unique player now with each player's stats being aggregated across all teams they played for in the given 2023 or 2024 season.\n",
        "\n",
        "The team is omitted for 2023 but kept for 2024. This is to ensure each entry describes the player on the most recent team."
      ],
      "metadata": {
        "id": "Hix37msy1SK-"
      }
    },
    {
      "cell_type": "code",
      "source": [
        "# Group the dataframes by Player and sum all non-average statistics.\n",
        "df_2023_merged = df_2023.groupby('Player').agg({\n",
        "    'Year': 'first',\n",
        "    'Pos': 'last',\n",
        "    'Age': 'last',\n",
        "    'G': 'sum',\n",
        "    'PA': 'sum',\n",
        "    'AB': 'sum',\n",
        "    'R': 'sum',\n",
        "    'H': 'sum',\n",
        "    '2B': 'sum',\n",
        "    '3B': 'sum',\n",
        "    'HR': 'sum',\n",
        "    'RBI': 'sum',\n",
        "    'SB': 'sum',\n",
        "    'CS': 'sum',\n",
        "    'BB': 'sum',\n",
        "    'SO': 'sum',\n",
        "    'SH': 'sum',\n",
        "    'SF': 'sum',\n",
        "    'HBP': 'sum',\n",
        "}).reset_index()\n",
        "\n",
        "# For 2024, since these teams are the most recent, we'll include them here\n",
        "# when we merge 2023 and 2024, this team will be included.\n",
        "df_2024_merged = df_2024.groupby('Player').agg({\n",
        "    'Team': 'last',\n",
        "    'Year': 'first',\n",
        "    'Pos': 'last',\n",
        "    'Age': 'last',\n",
        "    'G': 'sum',\n",
        "    'PA': 'sum',\n",
        "    'AB': 'sum',\n",
        "    'R': 'sum',\n",
        "    'H': 'sum',\n",
        "    '2B': 'sum',\n",
        "    '3B': 'sum',\n",
        "    'HR': 'sum',\n",
        "    'RBI': 'sum',\n",
        "    'SB': 'sum',\n",
        "    'CS': 'sum',\n",
        "    'BB': 'sum',\n",
        "    'SO': 'sum',\n",
        "    'SH': 'sum',\n",
        "    'SF': 'sum',\n",
        "    'HBP': 'sum',\n",
        "}).reset_index()\n",
        "\n",
        "# We may have merged a player with estimated games played, so we need to make sure\n",
        "# his aggregate games < 163\n",
        "df_2023_merged['G'] = df_2023_merged['G'].apply(lambda x: min(162, x))\n",
        "df_2024_merged['G'] = df_2024_merged['G'].apply(lambda x: min(162, x))"
      ],
      "metadata": {
        "id": "vvivcwFqnBkU"
      },
      "execution_count": 71,
      "outputs": []
    },
    {
      "cell_type": "code",
      "source": [
        "# Used the merged data to compute the various average metrics\n",
        "df_2023_merged['AVG'] = (df_2023_merged['H'] / df_2023_merged['AB']).round(3)\n",
        "df_2023_merged['OBP'] = ((df_2023_merged['BB'] + df_2023_merged['HBP'] + df_2023_merged['H']) / df_2023_merged['PA']).round(3)\n",
        "df_2023_merged['SLG'] = ((df_2023_merged['H'] + df_2023_merged['2B'] + 2 * df_2023_merged['3B'] + 3 * df_2023_merged['HR']) / df_2023_merged['AB']).round(3)\n",
        "df_2023_merged['OPS'] = df_2023_merged['OBP'] + df_2023_merged['SLG']\n",
        "\n",
        "df_2024_merged['AVG'] = (df_2024_merged['H'] / df_2024_merged['AB']).round(3)\n",
        "df_2024_merged['OBP'] = ((df_2024_merged['BB'] + df_2024_merged['HBP'] + df_2024_merged['H']) / df_2024_merged['PA']).round(3)\n",
        "df_2024_merged['SLG'] = ((df_2024_merged['H'] + df_2024_merged['2B'] + 2 * df_2024_merged['3B'] + 3 * df_2024_merged['HR']) / df_2024_merged['AB']).round(3)\n",
        "df_2024_merged['OPS'] = df_2024_merged['OBP'] + df_2024_merged['SLG']\n",
        "\n",
        "# Sanity check, enusre no new null values, and only unique entries (649)\n",
        "print(df_2023_merged.info())\n",
        "print(df_2024_merged.info())"
      ],
      "metadata": {
        "colab": {
          "base_uri": "https://localhost:8080/"
        },
        "id": "fPdzBs6m7R5v",
        "outputId": "17e4273e-8816-4c02-dd12-470b38d2d848"
      },
      "execution_count": 72,
      "outputs": [
        {
          "output_type": "stream",
          "name": "stdout",
          "text": [
            "<class 'pandas.core.frame.DataFrame'>\n",
            "RangeIndex: 649 entries, 0 to 648\n",
            "Data columns (total 24 columns):\n",
            " #   Column  Non-Null Count  Dtype   \n",
            "---  ------  --------------  -----   \n",
            " 0   Player  649 non-null    object  \n",
            " 1   Year    649 non-null    category\n",
            " 2   Pos     649 non-null    object  \n",
            " 3   Age     649 non-null    int64   \n",
            " 4   G       649 non-null    float64 \n",
            " 5   PA      649 non-null    float64 \n",
            " 6   AB      649 non-null    int64   \n",
            " 7   R       649 non-null    int64   \n",
            " 8   H       649 non-null    int64   \n",
            " 9   2B      649 non-null    int64   \n",
            " 10  3B      649 non-null    int64   \n",
            " 11  HR      649 non-null    int64   \n",
            " 12  RBI     649 non-null    int64   \n",
            " 13  SB      649 non-null    int64   \n",
            " 14  CS      649 non-null    int64   \n",
            " 15  BB      649 non-null    int64   \n",
            " 16  SO      649 non-null    int64   \n",
            " 17  SH      649 non-null    float64 \n",
            " 18  SF      649 non-null    float64 \n",
            " 19  HBP     649 non-null    int64   \n",
            " 20  AVG     649 non-null    float64 \n",
            " 21  OBP     649 non-null    float64 \n",
            " 22  SLG     649 non-null    float64 \n",
            " 23  OPS     649 non-null    float64 \n",
            "dtypes: category(1), float64(8), int64(13), object(2)\n",
            "memory usage: 117.5+ KB\n",
            "None\n",
            "<class 'pandas.core.frame.DataFrame'>\n",
            "RangeIndex: 649 entries, 0 to 648\n",
            "Data columns (total 25 columns):\n",
            " #   Column  Non-Null Count  Dtype   \n",
            "---  ------  --------------  -----   \n",
            " 0   Player  649 non-null    object  \n",
            " 1   Team    649 non-null    object  \n",
            " 2   Year    649 non-null    category\n",
            " 3   Pos     649 non-null    object  \n",
            " 4   Age     649 non-null    int64   \n",
            " 5   G       649 non-null    float64 \n",
            " 6   PA      649 non-null    float64 \n",
            " 7   AB      649 non-null    int64   \n",
            " 8   R       649 non-null    int64   \n",
            " 9   H       649 non-null    int64   \n",
            " 10  2B      649 non-null    int64   \n",
            " 11  3B      649 non-null    int64   \n",
            " 12  HR      649 non-null    int64   \n",
            " 13  RBI     649 non-null    int64   \n",
            " 14  SB      649 non-null    int64   \n",
            " 15  CS      649 non-null    int64   \n",
            " 16  BB      649 non-null    int64   \n",
            " 17  SO      649 non-null    int64   \n",
            " 18  SH      649 non-null    float64 \n",
            " 19  SF      649 non-null    float64 \n",
            " 20  HBP     649 non-null    int64   \n",
            " 21  AVG     649 non-null    float64 \n",
            " 22  OBP     649 non-null    float64 \n",
            " 23  SLG     649 non-null    float64 \n",
            " 24  OPS     649 non-null    float64 \n",
            "dtypes: category(1), float64(8), int64(13), object(3)\n",
            "memory usage: 122.6+ KB\n",
            "None\n"
          ]
        }
      ]
    },
    {
      "cell_type": "markdown",
      "source": [
        "## Standardize Data Formats"
      ],
      "metadata": {
        "id": "3QjmXfXwzwI5"
      }
    },
    {
      "cell_type": "code",
      "source": [
        "# create a list of the columns that are categorical and those that are integer and those that have string values\n",
        "numerical23 = []\n",
        "categorical23 = []\n",
        "string23 = []\n",
        "\n",
        "# sort the columns based on numerical, categorical, and string\n",
        "print(\"2023 data types stats\")\n",
        "for column in df_2023_merged.columns:\n",
        "  print(df_2023_merged[column].dtype)\n",
        "  # numerical are floats and ints\n",
        "  if df_2023_merged[column].dtype == np.float64 or df_2023_merged[column].dtype == np.int64:\n",
        "   numerical23.append(column)\n",
        "  # categories are 30 or less unique values\n",
        "  elif df_2023_merged[column].nunique() < 31:\n",
        "    categorical23.append(column)\n",
        "  # remaining are strings\n",
        "  else:\n",
        "    string23.append(column)\n",
        "\n",
        "print(\"Numerical columns: \", numerical23)\n",
        "print(\"Categorical columns: \", categorical23)\n",
        "print(\"String columns: \", string23)\n",
        "\n",
        "numerical24 = []\n",
        "categorical24 = []\n",
        "string24 = []\n",
        "print(\"\\n2024 data type stats\")\n",
        "\n",
        "# sort the columns based on numerical, categorical, and string\n",
        "for column in df_2024_merged.columns:\n",
        "  # numerical are floats and ints\n",
        "  if df_2024_merged[column].dtype == np.float64 or df_2024_merged[column].dtype == np.int64:\n",
        "   numerical24.append(column)\n",
        "  # categories are 30 or less unique values\n",
        "  elif df_2024_merged[column].nunique() < 31:\n",
        "    categorical24.append(column)\n",
        "  # remaining are strings\n",
        "  else:\n",
        "    string24.append(column)\n",
        "\n",
        "print(\"Numerical columns: \", numerical24)\n",
        "print(\"Categorical columns: \", categorical24)\n",
        "print(\"String columns: \", string24)\n"
      ],
      "metadata": {
        "colab": {
          "base_uri": "https://localhost:8080/"
        },
        "id": "yTvVr6fuzv3D",
        "outputId": "7ce60917-52f6-40e5-eec6-ef1fe57c95a8"
      },
      "execution_count": 73,
      "outputs": [
        {
          "output_type": "stream",
          "name": "stdout",
          "text": [
            "2023 data types stats\n",
            "object\n",
            "category\n",
            "object\n",
            "int64\n",
            "float64\n",
            "float64\n",
            "int64\n",
            "int64\n",
            "int64\n",
            "int64\n",
            "int64\n",
            "int64\n",
            "int64\n",
            "int64\n",
            "int64\n",
            "int64\n",
            "int64\n",
            "float64\n",
            "float64\n",
            "int64\n",
            "float64\n",
            "float64\n",
            "float64\n",
            "float64\n",
            "Numerical columns:  ['Age', 'G', 'PA', 'AB', 'R', 'H', '2B', '3B', 'HR', 'RBI', 'SB', 'CS', 'BB', 'SO', 'SH', 'SF', 'HBP', 'AVG', 'OBP', 'SLG', 'OPS']\n",
            "Categorical columns:  ['Year', 'Pos']\n",
            "String columns:  ['Player']\n",
            "\n",
            "2024 data type stats\n",
            "Numerical columns:  ['Age', 'G', 'PA', 'AB', 'R', 'H', '2B', '3B', 'HR', 'RBI', 'SB', 'CS', 'BB', 'SO', 'SH', 'SF', 'HBP', 'AVG', 'OBP', 'SLG', 'OPS']\n",
            "Categorical columns:  ['Team', 'Year', 'Pos']\n",
            "String columns:  ['Player']\n"
          ]
        }
      ]
    },
    {
      "cell_type": "code",
      "source": [
        "# Convert all the columns in the categorical list to be of the type category\n",
        "for column in categorical23:\n",
        "  df_2023_merged[column] = df_2023_merged[column].astype('category')\n",
        "\n",
        "print(\"\\n2023 stats categorical values\")\n",
        "print(df_2023_merged.info())\n",
        "\n",
        "\n",
        "for column in categorical24:\n",
        "  df_2024_merged[column] = df_2024_merged[column].astype('category')\n",
        "\n",
        "print(\"\\n2024 stats categorical values\")\n",
        "print(df_2024_merged.info())"
      ],
      "metadata": {
        "colab": {
          "base_uri": "https://localhost:8080/"
        },
        "id": "ttweUzNcz_e6",
        "outputId": "3b0e8210-1263-4019-f179-b6f108382700"
      },
      "execution_count": 74,
      "outputs": [
        {
          "output_type": "stream",
          "name": "stdout",
          "text": [
            "\n",
            "2023 stats categorical values\n",
            "<class 'pandas.core.frame.DataFrame'>\n",
            "RangeIndex: 649 entries, 0 to 648\n",
            "Data columns (total 24 columns):\n",
            " #   Column  Non-Null Count  Dtype   \n",
            "---  ------  --------------  -----   \n",
            " 0   Player  649 non-null    object  \n",
            " 1   Year    649 non-null    category\n",
            " 2   Pos     649 non-null    category\n",
            " 3   Age     649 non-null    int64   \n",
            " 4   G       649 non-null    float64 \n",
            " 5   PA      649 non-null    float64 \n",
            " 6   AB      649 non-null    int64   \n",
            " 7   R       649 non-null    int64   \n",
            " 8   H       649 non-null    int64   \n",
            " 9   2B      649 non-null    int64   \n",
            " 10  3B      649 non-null    int64   \n",
            " 11  HR      649 non-null    int64   \n",
            " 12  RBI     649 non-null    int64   \n",
            " 13  SB      649 non-null    int64   \n",
            " 14  CS      649 non-null    int64   \n",
            " 15  BB      649 non-null    int64   \n",
            " 16  SO      649 non-null    int64   \n",
            " 17  SH      649 non-null    float64 \n",
            " 18  SF      649 non-null    float64 \n",
            " 19  HBP     649 non-null    int64   \n",
            " 20  AVG     649 non-null    float64 \n",
            " 21  OBP     649 non-null    float64 \n",
            " 22  SLG     649 non-null    float64 \n",
            " 23  OPS     649 non-null    float64 \n",
            "dtypes: category(2), float64(8), int64(13), object(1)\n",
            "memory usage: 113.4+ KB\n",
            "None\n",
            "\n",
            "2024 stats categorical values\n",
            "<class 'pandas.core.frame.DataFrame'>\n",
            "RangeIndex: 649 entries, 0 to 648\n",
            "Data columns (total 25 columns):\n",
            " #   Column  Non-Null Count  Dtype   \n",
            "---  ------  --------------  -----   \n",
            " 0   Player  649 non-null    object  \n",
            " 1   Team    649 non-null    category\n",
            " 2   Year    649 non-null    category\n",
            " 3   Pos     649 non-null    category\n",
            " 4   Age     649 non-null    int64   \n",
            " 5   G       649 non-null    float64 \n",
            " 6   PA      649 non-null    float64 \n",
            " 7   AB      649 non-null    int64   \n",
            " 8   R       649 non-null    int64   \n",
            " 9   H       649 non-null    int64   \n",
            " 10  2B      649 non-null    int64   \n",
            " 11  3B      649 non-null    int64   \n",
            " 12  HR      649 non-null    int64   \n",
            " 13  RBI     649 non-null    int64   \n",
            " 14  SB      649 non-null    int64   \n",
            " 15  CS      649 non-null    int64   \n",
            " 16  BB      649 non-null    int64   \n",
            " 17  SO      649 non-null    int64   \n",
            " 18  SH      649 non-null    float64 \n",
            " 19  SF      649 non-null    float64 \n",
            " 20  HBP     649 non-null    int64   \n",
            " 21  AVG     649 non-null    float64 \n",
            " 22  OBP     649 non-null    float64 \n",
            " 23  SLG     649 non-null    float64 \n",
            " 24  OPS     649 non-null    float64 \n",
            "dtypes: category(3), float64(8), int64(13), object(1)\n",
            "memory usage: 115.3+ KB\n",
            "None\n"
          ]
        }
      ]
    },
    {
      "cell_type": "markdown",
      "source": [
        "## Numerical Column Constistency\n",
        "The three columns with missing values should be integers, so we ensure that here.\n",
        "\n",
        "PA must also be converted"
      ],
      "metadata": {
        "id": "KjUePFLV0Y0s"
      }
    },
    {
      "cell_type": "code",
      "source": [
        "# Converting missing rows values from float to int\n",
        "\n",
        "# Number of games, SH, SF, and PA should be an int\n",
        "print(\"2023 stats updated types\")\n",
        "df_2023_merged['G'] = df_2023_merged['G'].astype('int64')\n",
        "df_2023_merged['SH'] = df_2023_merged['SH'].astype('int64')\n",
        "df_2023_merged['SF'] = df_2023_merged['SF'].astype('int64')\n",
        "df_2023_merged['PA'] = df_2023_merged['PA'].astype('int64')\n",
        "\n",
        "print(df_2023_merged.info())\n",
        "\n",
        "# Number of games, SH, and SF should be an int\n",
        "print(\"2024 stats updated types\")\n",
        "df_2024_merged['G'] = df_2024_merged['G'].astype('int64')\n",
        "df_2024_merged['SH'] = df_2024_merged['SH'].astype('int64')\n",
        "df_2024_merged['SF'] = df_2024_merged['SF'].astype('int64')\n",
        "df_2024_merged['PA'] = df_2024_merged['PA'].astype('int64')\n",
        "\n",
        "print(df_2024_merged.info())"
      ],
      "metadata": {
        "colab": {
          "base_uri": "https://localhost:8080/"
        },
        "id": "BXeek9tE0XwQ",
        "outputId": "2c6cbd1c-116c-420a-9873-9f93c09ed111"
      },
      "execution_count": 75,
      "outputs": [
        {
          "output_type": "stream",
          "name": "stdout",
          "text": [
            "2023 stats updated types\n",
            "<class 'pandas.core.frame.DataFrame'>\n",
            "RangeIndex: 649 entries, 0 to 648\n",
            "Data columns (total 24 columns):\n",
            " #   Column  Non-Null Count  Dtype   \n",
            "---  ------  --------------  -----   \n",
            " 0   Player  649 non-null    object  \n",
            " 1   Year    649 non-null    category\n",
            " 2   Pos     649 non-null    category\n",
            " 3   Age     649 non-null    int64   \n",
            " 4   G       649 non-null    int64   \n",
            " 5   PA      649 non-null    int64   \n",
            " 6   AB      649 non-null    int64   \n",
            " 7   R       649 non-null    int64   \n",
            " 8   H       649 non-null    int64   \n",
            " 9   2B      649 non-null    int64   \n",
            " 10  3B      649 non-null    int64   \n",
            " 11  HR      649 non-null    int64   \n",
            " 12  RBI     649 non-null    int64   \n",
            " 13  SB      649 non-null    int64   \n",
            " 14  CS      649 non-null    int64   \n",
            " 15  BB      649 non-null    int64   \n",
            " 16  SO      649 non-null    int64   \n",
            " 17  SH      649 non-null    int64   \n",
            " 18  SF      649 non-null    int64   \n",
            " 19  HBP     649 non-null    int64   \n",
            " 20  AVG     649 non-null    float64 \n",
            " 21  OBP     649 non-null    float64 \n",
            " 22  SLG     649 non-null    float64 \n",
            " 23  OPS     649 non-null    float64 \n",
            "dtypes: category(2), float64(4), int64(17), object(1)\n",
            "memory usage: 113.4+ KB\n",
            "None\n",
            "2024 stats updated types\n",
            "<class 'pandas.core.frame.DataFrame'>\n",
            "RangeIndex: 649 entries, 0 to 648\n",
            "Data columns (total 25 columns):\n",
            " #   Column  Non-Null Count  Dtype   \n",
            "---  ------  --------------  -----   \n",
            " 0   Player  649 non-null    object  \n",
            " 1   Team    649 non-null    category\n",
            " 2   Year    649 non-null    category\n",
            " 3   Pos     649 non-null    category\n",
            " 4   Age     649 non-null    int64   \n",
            " 5   G       649 non-null    int64   \n",
            " 6   PA      649 non-null    int64   \n",
            " 7   AB      649 non-null    int64   \n",
            " 8   R       649 non-null    int64   \n",
            " 9   H       649 non-null    int64   \n",
            " 10  2B      649 non-null    int64   \n",
            " 11  3B      649 non-null    int64   \n",
            " 12  HR      649 non-null    int64   \n",
            " 13  RBI     649 non-null    int64   \n",
            " 14  SB      649 non-null    int64   \n",
            " 15  CS      649 non-null    int64   \n",
            " 16  BB      649 non-null    int64   \n",
            " 17  SO      649 non-null    int64   \n",
            " 18  SH      649 non-null    int64   \n",
            " 19  SF      649 non-null    int64   \n",
            " 20  HBP     649 non-null    int64   \n",
            " 21  AVG     649 non-null    float64 \n",
            " 22  OBP     649 non-null    float64 \n",
            " 23  SLG     649 non-null    float64 \n",
            " 24  OPS     649 non-null    float64 \n",
            "dtypes: category(3), float64(4), int64(17), object(1)\n",
            "memory usage: 115.3+ KB\n",
            "None\n"
          ]
        }
      ]
    },
    {
      "cell_type": "markdown",
      "source": [
        "## Merging Datasets\n",
        "We perform a left merge to ensure that all player entries contain their most recent team. The 2023 dataset had its \"team\" column removed to make this easier. We have to remove players from 2023 that are not in 2024, indicating they are no longer in the MLB."
      ],
      "metadata": {
        "id": "WLYcJcJuBFnD"
      }
    },
    {
      "cell_type": "code",
      "source": [
        "# Remove players no longer in 2024\n",
        "df_2023_merged = df_2023_merged[df_2023_merged[\"Player\"].isin(df_2024_merged[\"Player\"])]\n",
        "\n",
        "# Replace 2023 team data with 2024 team data\n",
        "df_2023_merged = df_2023_merged.merge(df_2024_merged[[\"Player\", \"Team\"]], on=\"Player\", how=\"left\")\n",
        "\n",
        "# Concatenate the two sets together\n",
        "df_merged = pd.concat([df_2023_merged, df_2024_merged], ignore_index=True)"
      ],
      "metadata": {
        "id": "0vs298pw_7Np"
      },
      "execution_count": 76,
      "outputs": []
    },
    {
      "cell_type": "markdown",
      "source": [
        "## Filtering\n",
        "We first want to check for AVG outliers. Since most statistics either contribute to or are correlated to this value, removing these should produce a more representative sample. Additionally, some high or low average outliers indicate a low number of games played. Next, we display a histogram and summary statistics to see the lower bounds of games played. We want to remove these players because their stats will not be indicative of offense power, since they play so few games."
      ],
      "metadata": {
        "id": "DBNNVDaKCAQc"
      }
    },
    {
      "cell_type": "code",
      "source": [
        "# Visualize the distribution of games played (G)\n",
        "display(df_merged['AVG'].describe())\n",
        "\n",
        "df_merged['AVG'].plot.hist(bins=50)"
      ],
      "metadata": {
        "colab": {
          "base_uri": "https://localhost:8080/",
          "height": 765
        },
        "id": "Mp_0X25zFj17",
        "outputId": "7ad655a6-dfc4-4147-9150-2f669d36d424"
      },
      "execution_count": 77,
      "outputs": [
        {
          "output_type": "display_data",
          "data": {
            "text/plain": [
              "count    1164.000000\n",
              "mean        0.228046\n",
              "std         0.060739\n",
              "min         0.000000\n",
              "25%         0.206000\n",
              "50%         0.237000\n",
              "75%         0.262000\n",
              "max         0.600000\n",
              "Name: AVG, dtype: float64"
            ],
            "text/html": [
              "<div>\n",
              "<style scoped>\n",
              "    .dataframe tbody tr th:only-of-type {\n",
              "        vertical-align: middle;\n",
              "    }\n",
              "\n",
              "    .dataframe tbody tr th {\n",
              "        vertical-align: top;\n",
              "    }\n",
              "\n",
              "    .dataframe thead th {\n",
              "        text-align: right;\n",
              "    }\n",
              "</style>\n",
              "<table border=\"1\" class=\"dataframe\">\n",
              "  <thead>\n",
              "    <tr style=\"text-align: right;\">\n",
              "      <th></th>\n",
              "      <th>AVG</th>\n",
              "    </tr>\n",
              "  </thead>\n",
              "  <tbody>\n",
              "    <tr>\n",
              "      <th>count</th>\n",
              "      <td>1164.000000</td>\n",
              "    </tr>\n",
              "    <tr>\n",
              "      <th>mean</th>\n",
              "      <td>0.228046</td>\n",
              "    </tr>\n",
              "    <tr>\n",
              "      <th>std</th>\n",
              "      <td>0.060739</td>\n",
              "    </tr>\n",
              "    <tr>\n",
              "      <th>min</th>\n",
              "      <td>0.000000</td>\n",
              "    </tr>\n",
              "    <tr>\n",
              "      <th>25%</th>\n",
              "      <td>0.206000</td>\n",
              "    </tr>\n",
              "    <tr>\n",
              "      <th>50%</th>\n",
              "      <td>0.237000</td>\n",
              "    </tr>\n",
              "    <tr>\n",
              "      <th>75%</th>\n",
              "      <td>0.262000</td>\n",
              "    </tr>\n",
              "    <tr>\n",
              "      <th>max</th>\n",
              "      <td>0.600000</td>\n",
              "    </tr>\n",
              "  </tbody>\n",
              "</table>\n",
              "</div><br><label><b>dtype:</b> float64</label>"
            ]
          },
          "metadata": {}
        },
        {
          "output_type": "execute_result",
          "data": {
            "text/plain": [
              "<Axes: ylabel='Frequency'>"
            ]
          },
          "metadata": {},
          "execution_count": 77
        },
        {
          "output_type": "display_data",
          "data": {
            "text/plain": [
              "<Figure size 640x480 with 1 Axes>"
            ],
            "image/png": "[encoded data removed]"
          },
          "metadata": {}
        }
      ]
    },
    {
      "cell_type": "code",
      "source": [
        "# It appears we have outliers at 0.4 and above, and at 0\n",
        "df_merged = df_merged[(df_merged['AVG'] > 0.0) & (df_merged['AVG'] < 0.4)]\n",
        "df_merged['AVG'].plot.hist(bins=50)\n",
        "df_merged['AVG'].describe()"
      ],
      "metadata": {
        "colab": {
          "base_uri": "https://localhost:8080/",
          "height": 748
        },
        "id": "H8FQDhhGKMu9",
        "outputId": "c0fb2811-2562-43b2-f048-f60e92c1f176"
      },
      "execution_count": 78,
      "outputs": [
        {
          "output_type": "execute_result",
          "data": {
            "text/plain": [
              "count    1132.000000\n",
              "mean        0.231572\n",
              "std         0.047292\n",
              "min         0.045000\n",
              "25%         0.208000\n",
              "50%         0.238000\n",
              "75%         0.262000\n",
              "max         0.380000\n",
              "Name: AVG, dtype: float64"
            ],
            "text/html": [
              "<div>\n",
              "<style scoped>\n",
              "    .dataframe tbody tr th:only-of-type {\n",
              "        vertical-align: middle;\n",
              "    }\n",
              "\n",
              "    .dataframe tbody tr th {\n",
              "        vertical-align: top;\n",
              "    }\n",
              "\n",
              "    .dataframe thead th {\n",
              "        text-align: right;\n",
              "    }\n",
              "</style>\n",
              "<table border=\"1\" class=\"dataframe\">\n",
              "  <thead>\n",
              "    <tr style=\"text-align: right;\">\n",
              "      <th></th>\n",
              "      <th>AVG</th>\n",
              "    </tr>\n",
              "  </thead>\n",
              "  <tbody>\n",
              "    <tr>\n",
              "      <th>count</th>\n",
              "      <td>1132.000000</td>\n",
              "    </tr>\n",
              "    <tr>\n",
              "      <th>mean</th>\n",
              "      <td>0.231572</td>\n",
              "    </tr>\n",
              "    <tr>\n",
              "      <th>std</th>\n",
              "      <td>0.047292</td>\n",
              "    </tr>\n",
              "    <tr>\n",
              "      <th>min</th>\n",
              "      <td>0.045000</td>\n",
              "    </tr>\n",
              "    <tr>\n",
              "      <th>25%</th>\n",
              "      <td>0.208000</td>\n",
              "    </tr>\n",
              "    <tr>\n",
              "      <th>50%</th>\n",
              "      <td>0.238000</td>\n",
              "    </tr>\n",
              "    <tr>\n",
              "      <th>75%</th>\n",
              "      <td>0.262000</td>\n",
              "    </tr>\n",
              "    <tr>\n",
              "      <th>max</th>\n",
              "      <td>0.380000</td>\n",
              "    </tr>\n",
              "  </tbody>\n",
              "</table>\n",
              "</div><br><label><b>dtype:</b> float64</label>"
            ]
          },
          "metadata": {},
          "execution_count": 78
        },
        {
          "output_type": "display_data",
          "data": {
            "text/plain": [
              "<Figure size 640x480 with 1 Axes>"
            ],
            "image/png": "[encoded data removed]"
          },
          "metadata": {}
        }
      ]
    },
    {
      "cell_type": "code",
      "source": [
        "# Next, we will filter by games.\n",
        "display(df_merged['G'].describe())\n",
        "\n",
        "df_merged['G'].plot.hist(bins=50)"
      ],
      "metadata": {
        "colab": {
          "base_uri": "https://localhost:8080/",
          "height": 765
        },
        "id": "CbVJmdHAMXZn",
        "outputId": "cff5939a-324a-4d0a-8e37-0972244f141e"
      },
      "execution_count": 79,
      "outputs": [
        {
          "output_type": "display_data",
          "data": {
            "text/plain": [
              "count    1132.000000\n",
              "mean       77.321555\n",
              "std        52.118217\n",
              "min         1.000000\n",
              "25%        27.000000\n",
              "50%        75.500000\n",
              "75%       122.000000\n",
              "max       162.000000\n",
              "Name: G, dtype: float64"
            ],
            "text/html": [
              "<div>\n",
              "<style scoped>\n",
              "    .dataframe tbody tr th:only-of-type {\n",
              "        vertical-align: middle;\n",
              "    }\n",
              "\n",
              "    .dataframe tbody tr th {\n",
              "        vertical-align: top;\n",
              "    }\n",
              "\n",
              "    .dataframe thead th {\n",
              "        text-align: right;\n",
              "    }\n",
              "</style>\n",
              "<table border=\"1\" class=\"dataframe\">\n",
              "  <thead>\n",
              "    <tr style=\"text-align: right;\">\n",
              "      <th></th>\n",
              "      <th>G</th>\n",
              "    </tr>\n",
              "  </thead>\n",
              "  <tbody>\n",
              "    <tr>\n",
              "      <th>count</th>\n",
              "      <td>1132.000000</td>\n",
              "    </tr>\n",
              "    <tr>\n",
              "      <th>mean</th>\n",
              "      <td>77.321555</td>\n",
              "    </tr>\n",
              "    <tr>\n",
              "      <th>std</th>\n",
              "      <td>52.118217</td>\n",
              "    </tr>\n",
              "    <tr>\n",
              "      <th>min</th>\n",
              "      <td>1.000000</td>\n",
              "    </tr>\n",
              "    <tr>\n",
              "      <th>25%</th>\n",
              "      <td>27.000000</td>\n",
              "    </tr>\n",
              "    <tr>\n",
              "      <th>50%</th>\n",
              "      <td>75.500000</td>\n",
              "    </tr>\n",
              "    <tr>\n",
              "      <th>75%</th>\n",
              "      <td>122.000000</td>\n",
              "    </tr>\n",
              "    <tr>\n",
              "      <th>max</th>\n",
              "      <td>162.000000</td>\n",
              "    </tr>\n",
              "  </tbody>\n",
              "</table>\n",
              "</div><br><label><b>dtype:</b> float64</label>"
            ]
          },
          "metadata": {}
        },
        {
          "output_type": "execute_result",
          "data": {
            "text/plain": [
              "<Axes: ylabel='Frequency'>"
            ]
          },
          "metadata": {},
          "execution_count": 79
        },
        {
          "output_type": "display_data",
          "data": {
            "text/plain": [
              "<Figure size 640x480 with 1 Axes>"
            ],
            "image/png": "[encoded data removed]"
          },
          "metadata": {}
        }
      ]
    },
    {
      "cell_type": "code",
      "source": [
        "# There are not any clear outliers. We can pick an arbitrary value,\n",
        "# maybe 20 games (roughly 80 plate appearances), to remove players with\n",
        "# too small a sample size to accurately analyze their contribution to\n",
        "# a team's offensive success\n",
        "df_merged = df_merged[df_merged['G'] > 20]\n",
        "df_merged['G'].plot.hist(bins=50)\n",
        "display(df_merged['G'].describe())"
      ],
      "metadata": {
        "colab": {
          "base_uri": "https://localhost:8080/",
          "height": 748
        },
        "id": "00Q-lWHwMfV1",
        "outputId": "ad8bd23d-4852-4e5e-e1f1-ecb22c322f69"
      },
      "execution_count": 80,
      "outputs": [
        {
          "output_type": "display_data",
          "data": {
            "text/plain": [
              "count    909.000000\n",
              "mean      93.720572\n",
              "std       44.827042\n",
              "min       21.000000\n",
              "25%       56.000000\n",
              "50%       92.000000\n",
              "75%      132.000000\n",
              "max      162.000000\n",
              "Name: G, dtype: float64"
            ],
            "text/html": [
              "<div>\n",
              "<style scoped>\n",
              "    .dataframe tbody tr th:only-of-type {\n",
              "        vertical-align: middle;\n",
              "    }\n",
              "\n",
              "    .dataframe tbody tr th {\n",
              "        vertical-align: top;\n",
              "    }\n",
              "\n",
              "    .dataframe thead th {\n",
              "        text-align: right;\n",
              "    }\n",
              "</style>\n",
              "<table border=\"1\" class=\"dataframe\">\n",
              "  <thead>\n",
              "    <tr style=\"text-align: right;\">\n",
              "      <th></th>\n",
              "      <th>G</th>\n",
              "    </tr>\n",
              "  </thead>\n",
              "  <tbody>\n",
              "    <tr>\n",
              "      <th>count</th>\n",
              "      <td>909.000000</td>\n",
              "    </tr>\n",
              "    <tr>\n",
              "      <th>mean</th>\n",
              "      <td>93.720572</td>\n",
              "    </tr>\n",
              "    <tr>\n",
              "      <th>std</th>\n",
              "      <td>44.827042</td>\n",
              "    </tr>\n",
              "    <tr>\n",
              "      <th>min</th>\n",
              "      <td>21.000000</td>\n",
              "    </tr>\n",
              "    <tr>\n",
              "      <th>25%</th>\n",
              "      <td>56.000000</td>\n",
              "    </tr>\n",
              "    <tr>\n",
              "      <th>50%</th>\n",
              "      <td>92.000000</td>\n",
              "    </tr>\n",
              "    <tr>\n",
              "      <th>75%</th>\n",
              "      <td>132.000000</td>\n",
              "    </tr>\n",
              "    <tr>\n",
              "      <th>max</th>\n",
              "      <td>162.000000</td>\n",
              "    </tr>\n",
              "  </tbody>\n",
              "</table>\n",
              "</div><br><label><b>dtype:</b> float64</label>"
            ]
          },
          "metadata": {}
        },
        {
          "output_type": "display_data",
          "data": {
            "text/plain": [
              "<Figure size 640x480 with 1 Axes>"
            ],
            "image/png": "[encoded data removed]"
          },
          "metadata": {}
        }
      ]
    },
    {
      "cell_type": "code",
      "source": [
        "# Check the AVG and see what's changed\n",
        "df_merged['AVG'].plot.hist(bins=50)\n",
        "display(df_merged['AVG'].describe())"
      ],
      "metadata": {
        "colab": {
          "base_uri": "https://localhost:8080/",
          "height": 748
        },
        "id": "LjtleZUlNLid",
        "outputId": "cffb1613-c40a-4670-c0d7-0c5868704a15"
      },
      "execution_count": 81,
      "outputs": [
        {
          "output_type": "display_data",
          "data": {
            "text/plain": [
              "count    909.000000\n",
              "mean       0.240366\n",
              "std        0.035329\n",
              "min        0.119000\n",
              "25%        0.218000\n",
              "50%        0.243000\n",
              "75%        0.264000\n",
              "max        0.354000\n",
              "Name: AVG, dtype: float64"
            ],
            "text/html": [
              "<div>\n",
              "<style scoped>\n",
              "    .dataframe tbody tr th:only-of-type {\n",
              "        vertical-align: middle;\n",
              "    }\n",
              "\n",
              "    .dataframe tbody tr th {\n",
              "        vertical-align: top;\n",
              "    }\n",
              "\n",
              "    .dataframe thead th {\n",
              "        text-align: right;\n",
              "    }\n",
              "</style>\n",
              "<table border=\"1\" class=\"dataframe\">\n",
              "  <thead>\n",
              "    <tr style=\"text-align: right;\">\n",
              "      <th></th>\n",
              "      <th>AVG</th>\n",
              "    </tr>\n",
              "  </thead>\n",
              "  <tbody>\n",
              "    <tr>\n",
              "      <th>count</th>\n",
              "      <td>909.000000</td>\n",
              "    </tr>\n",
              "    <tr>\n",
              "      <th>mean</th>\n",
              "      <td>0.240366</td>\n",
              "    </tr>\n",
              "    <tr>\n",
              "      <th>std</th>\n",
              "      <td>0.035329</td>\n",
              "    </tr>\n",
              "    <tr>\n",
              "      <th>min</th>\n",
              "      <td>0.119000</td>\n",
              "    </tr>\n",
              "    <tr>\n",
              "      <th>25%</th>\n",
              "      <td>0.218000</td>\n",
              "    </tr>\n",
              "    <tr>\n",
              "      <th>50%</th>\n",
              "      <td>0.243000</td>\n",
              "    </tr>\n",
              "    <tr>\n",
              "      <th>75%</th>\n",
              "      <td>0.264000</td>\n",
              "    </tr>\n",
              "    <tr>\n",
              "      <th>max</th>\n",
              "      <td>0.354000</td>\n",
              "    </tr>\n",
              "  </tbody>\n",
              "</table>\n",
              "</div><br><label><b>dtype:</b> float64</label>"
            ]
          },
          "metadata": {}
        },
        {
          "output_type": "display_data",
          "data": {
            "text/plain": [
              "<Figure size 640x480 with 1 Axes>"
            ],
            "image/png": "[encoded data removed]"
          },
          "metadata": {}
        }
      ]
    },
    {
      "cell_type": "code",
      "source": [
        "# This looks much better, we will export this as our cleaned, merged, and wrangled\n",
        "# dataset\n",
        "\n",
        "df_merged.to_csv('mlb-player-stats-Batters-2023-2024-cleaned.csv', index=False)"
      ],
      "metadata": {
        "id": "QZl-IlXbNP-i"
      },
      "execution_count": 82,
      "outputs": []
    }
  ]
}